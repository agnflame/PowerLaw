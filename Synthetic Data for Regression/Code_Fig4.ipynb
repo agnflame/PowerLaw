{
 "cells": [
  {
   "cell_type": "markdown",
   "id": "ee7ed9e2",
   "metadata": {},
   "source": [
    "# Code_Fig4.ipynb\n",
    "\n",
    "### Code to reproduce Fig. 4."
   ]
  },
  {
   "cell_type": "markdown",
   "id": "848a8cfe",
   "metadata": {},
   "source": [
    "### Packages"
   ]
  },
  {
   "cell_type": "code",
   "execution_count": 27,
   "id": "e2af08ce-4fe0-431e-8aca-6f5c09497060",
   "metadata": {
    "collapsed": true,
    "jupyter": {
     "outputs_hidden": true
    },
    "tags": []
   },
   "outputs": [
    {
     "name": "stderr",
     "output_type": "stream",
     "text": [
      "\u001b[32m\u001b[1m  Activating\u001b[22m\u001b[39m project at `~/Projects/Indistinguishability-Repo`\n"
     ]
    }
   ],
   "source": [
    "#packages\n",
    "using Pkg #package manager\n",
    "Pkg.activate(\".\") #applies any following packages to this directory"
   ]
  },
  {
   "cell_type": "code",
   "execution_count": 28,
   "id": "537e9077-3edf-40f7-8343-26e2deabaf89",
   "metadata": {
    "tags": []
   },
   "outputs": [],
   "source": [
    "using Catalyst;\n",
    "using MomentClosure;\n",
    "using DifferentialEquations;\n",
    "using Sundials;\n",
    "using LinearAlgebra;\n",
    "using CairoMakie;\n",
    "using GLM;\n",
    "using StatsBase;\n",
    "using DataFrames;\n",
    "using Latexify;\n",
    "using Colors;\n",
    "using CSV;\n",
    "using XLSX;\n",
    "using LsqFit;"
   ]
  },
  {
   "cell_type": "code",
   "execution_count": null,
   "id": "8ed4685e",
   "metadata": {},
   "outputs": [],
   "source": [
    "Pkg.status() #check package versions"
   ]
  },
  {
   "cell_type": "markdown",
   "id": "531bd71a",
   "metadata": {},
   "source": [
    "### Colours"
   ]
  },
  {
   "cell_type": "code",
   "execution_count": 29,
   "id": "d4b812de-5dea-498a-8ee2-98ebc53e695e",
   "metadata": {},
   "outputs": [
    {
     "data": {
      "image/svg+xml": [
       "<?xml version=\"1.0\" encoding=\"UTF-8\"?>\n",
       "<!DOCTYPE svg PUBLIC \"-//W3C//DTD SVG 1.1//EN\"\n",
       " \"http://www.w3.org/Graphics/SVG/1.1/DTD/svg11.dtd\">\n",
       "<svg xmlns=\"http://www.w3.org/2000/svg\" version=\"1.1\"\n",
       "     width=\"25mm\" height=\"25mm\" viewBox=\"0 0 1 1\" stroke=\"none\"\n",
       "     preserveAspectRatio=\"none\" shape-rendering=\"crispEdges\">\n",
       "<defs>\n",
       "    <pattern id=\"pat_BC7PZ\" width=\".2\" height=\".2\"\n",
       "             patternUnits=\"userSpaceOnUse\" >\n",
       "        <path d=\"M.1,0h.1v.1h-.2v.1h.1z\" fill=\"#999\" opacity=\".5\" />\n",
       "    </pattern>\n",
       "</defs>\n",
       "<rect width=\"1\" height=\"1\" fill=\"url(#pat_BC7PZ)\" />\n",
       "<path d=\"M1,0v1h-1z\" fill=\"#0000FF\" />\n",
       "<path d=\"M0,0h1v1h-1z\" fill=\"#0000FF\" fill-opacity=\".5\" />\n",
       "</svg>"
      ],
      "text/plain": [
       "RGBA{Float32}(0.0f0,0.0f0,1.0f0,0.5f0)"
      ]
     },
     "execution_count": 29,
     "metadata": {},
     "output_type": "execute_result"
    }
   ],
   "source": [
    "bbblue = RGBAf(0,0,255/255,0.5)\n",
    "bblue = RGBAf(0,0,255/255,1)\n",
    "yyyellow = RGBAf(255/255,215/255,0,0.5)\n",
    "yyellow = RGBAf(255/255,215/255,0,1)"
   ]
  },
  {
   "cell_type": "markdown",
   "id": "44cd5125",
   "metadata": {},
   "source": [
    "### Custom functions"
   ]
  },
  {
   "cell_type": "code",
   "execution_count": 33,
   "id": "011f268e-3999-4d51-b94b-37791232f857",
   "metadata": {},
   "outputs": [
    {
     "data": {
      "text/plain": [
       "compute_theory_prefactor (generic function with 1 method)"
      ]
     },
     "execution_count": 33,
     "metadata": {},
     "output_type": "execute_result"
    }
   ],
   "source": [
    "#function to compute the theoretical prefactor given an N-state model and initial state\n",
    "function compute_theory_prefactor(N_::Int64, j_::Int64, ps_::Vector{Float64})\n",
    "    prefactor = ps_[N_+1]; #initial prefactor value = transcription rate\n",
    "    for i in j_:1:(N_-1)\n",
    "        prefactor *= ps_[i]; #prefactor is product of transcription rate and rates leading into \n",
    "    end\n",
    "    prefactor = prefactor/factorial(N_-j_+1);\n",
    "    return prefactor;\n",
    "end"
   ]
  },
  {
   "cell_type": "code",
   "execution_count": 34,
   "id": "74bb30ea-2b6c-4587-a1e4-38c83f660ec1",
   "metadata": {},
   "outputs": [
    {
     "data": {
      "text/plain": [
       "compute_IC_vector (generic function with 1 method)"
      ]
     },
     "execution_count": 34,
     "metadata": {},
     "output_type": "execute_result"
    }
   ],
   "source": [
    "#function to return the vector of initial conditions for given number of states (N) and initial state (j)\n",
    "#and initial mean mRNA count (m0)\n",
    "function compute_IC_vector(N_::Int64, j_::Int64, m0_::Float64)\n",
    "    ICs = vec(zeros(N_,1));\n",
    "    ICs[end] = m0_;\n",
    "    if j_ != 1 && j_<=N_\n",
    "        ICs[j_-1] = 1.0;\n",
    "    end\n",
    "    return ICs;\n",
    "end"
   ]
  },
  {
   "cell_type": "code",
   "execution_count": 35,
   "id": "46330c5f-ef97-41a2-9312-f9ed7f3959d2",
   "metadata": {},
   "outputs": [
    {
     "data": {
      "text/plain": [
       "compute_Rsq_nlinreg (generic function with 1 method)"
      ]
     },
     "execution_count": 35,
     "metadata": {},
     "output_type": "execute_result"
    }
   ],
   "source": [
    "#functions to compute R-squared (for both linear and nonlinear regressions)\n",
    "#R-sq = 1 - (sum (y_i - y_hat_i)^2 )/(sum (y_i - y_bar)^2 )\n",
    "#R-sq = 1 - SSR/SST\n",
    "function compute_Rsq_linreg(y_i_vec::Vector{Float64}, t_i_vec::Vector{Float64}, intercept::Float64, slope::Float64)\n",
    "    \n",
    "    #initial SSR and SST values\n",
    "    SSR = 0.0;\n",
    "    SST = 0.0;\n",
    "    \n",
    "    y_bar = mean(log.(y_i_vec));\n",
    "    \n",
    "    #compute SSR and SST\n",
    "    for i in 1:1:length(y_i_vec)\n",
    "        y_i = log(y_i_vec[i]);\n",
    "        t_i = t_i_vec[i];\n",
    "        y_hat_i = intercept + slope*log(t_i); #compute regression point\n",
    "        SSR += (y_i - y_hat_i)^2;\n",
    "        SST += (y_i - y_bar)^2;\n",
    "    end\n",
    "    \n",
    "    #compute R-squared\n",
    "    Rsq = 1.0 - SSR/SST;\n",
    "    return Rsq;\n",
    "end\n",
    "\n",
    "function compute_Rsq_nlinreg(y_i_vec::Vector{Float64}, t_i_vec::Vector{Float64}, prefactor::Float64, exponent::Float64)\n",
    "    \n",
    "    #initial SSR and SST values\n",
    "    SSR = 0.0;\n",
    "    SST = 0.0;\n",
    "    \n",
    "    y_bar = mean(y_i_vec);\n",
    "    \n",
    "    #compute SSR and SST\n",
    "    for i in 1:1:length(y_i_vec)\n",
    "        y_i = y_i_vec[i];\n",
    "        t_i = t_i_vec[i];\n",
    "        y_hat_i = prefactor*(t_i^exponent); #compute regression point\n",
    "        SSR += (y_i - y_hat_i)^2;\n",
    "        SST += (y_i - y_bar)^2;\n",
    "    end\n",
    "    \n",
    "    #compute R-squared\n",
    "    Rsq = 1.0 - SSR/SST;\n",
    "    return Rsq;\n",
    "end"
   ]
  },
  {
   "cell_type": "markdown",
   "id": "f2dbd746",
   "metadata": {},
   "source": [
    "### Define reaction network, set up, and perform calculation"
   ]
  },
  {
   "cell_type": "code",
   "execution_count": null,
   "id": "79b9b09d-6cb0-4fce-8190-da9a02ba4558",
   "metadata": {},
   "outputs": [],
   "source": [
    "#Define the 5-state model reaction network\n",
    "rn_5sm = @reaction_network begin\n",
    "    k_1*(1 - G_2 - G_3 - G_4 - G_5), ∅ --> G_2\n",
    "    k_2, G_2 --> G_3\n",
    "    k_3, G_3 --> G_4\n",
    "    k_4, G_4 --> G_5\n",
    "    k_5, G_5 --> ∅\n",
    "    ρ, G_5 --> G_5 + M\n",
    "    d, M --> ∅\n",
    "end k_1 k_2 k_3 k_4 k_5 ρ d"
   ]
  },
  {
   "cell_type": "code",
   "execution_count": 37,
   "id": "49e60090-5e8a-4766-b520-725b0fcd3360",
   "metadata": {},
   "outputs": [
    {
     "data": {
      "text/latex": [
       "\\begin{align*}\n",
       "\\frac{d\\mu_{1 0 0 0 0}}{dt} =& k_{1} - k_{1} \\mu_{0 0 0 1 0} - k_{1} \\mu_{0 0 1 0 0} - k_{1} \\mu_{0 1 0 0 0} - k_{1} \\mu_{1 0 0 0 0} - k_{2} \\mu_{1 0 0 0 0} \\\\\n",
       "\\frac{d\\mu_{0 1 0 0 0}}{dt} =& k_{2} \\mu_{1 0 0 0 0} - k_{3} \\mu_{0 1 0 0 0} \\\\\n",
       "\\frac{d\\mu_{0 0 1 0 0}}{dt} =& k_{3} \\mu_{0 1 0 0 0} - k_{4} \\mu_{0 0 1 0 0} \\\\\n",
       "\\frac{d\\mu_{0 0 0 1 0}}{dt} =& k_{4} \\mu_{0 0 1 0 0} - k_{5} \\mu_{0 0 0 1 0} \\\\\n",
       "\\frac{d\\mu_{0 0 0 0 1}}{dt} =& \\rho \\mu_{0 0 0 1 0} - d \\mu_{0 0 0 0 1}\n",
       "\\end{align*}\n"
      ],
      "text/plain": [
       "L\"\\begin{align*}\n",
       "\\frac{d\\mu_{1 0 0 0 0}}{dt} =& k_{1} - k_{1} \\mu_{0 0 0 1 0} - k_{1} \\mu_{0 0 1 0 0} - k_{1} \\mu_{0 1 0 0 0} - k_{1} \\mu_{1 0 0 0 0} - k_{2} \\mu_{1 0 0 0 0} \\\\\n",
       "\\frac{d\\mu_{0 1 0 0 0}}{dt} =& k_{2} \\mu_{1 0 0 0 0} - k_{3} \\mu_{0 1 0 0 0} \\\\\n",
       "\\frac{d\\mu_{0 0 1 0 0}}{dt} =& k_{3} \\mu_{0 1 0 0 0} - k_{4} \\mu_{0 0 1 0 0} \\\\\n",
       "\\frac{d\\mu_{0 0 0 1 0}}{dt} =& k_{4} \\mu_{0 0 1 0 0} - k_{5} \\mu_{0 0 0 1 0} \\\\\n",
       "\\frac{d\\mu_{0 0 0 0 1}}{dt} =& \\rho \\mu_{0 0 0 1 0} - d \\mu_{0 0 0 0 1}\n",
       "\\end{align*}\n",
       "\""
      ]
     },
     "execution_count": 37,
     "metadata": {},
     "output_type": "execute_result"
    }
   ],
   "source": [
    "#Generate the moment equations (means of each species)\n",
    "moment_eqns = generate_central_moment_eqs(rn_5sm, 1);\n",
    "latexify(moment_eqns)"
   ]
  },
  {
   "cell_type": "code",
   "execution_count": 38,
   "id": "2d51ae8d-bcb3-4e35-b881-187b366e7aeb",
   "metadata": {},
   "outputs": [
    {
     "name": "stdout",
     "output_type": "stream",
     "text": [
      "linear regression slope = 3.9527\n",
      "nonlinear regression exponent = 3.3132\n"
     ]
    }
   ],
   "source": [
    "#Number of states and initial state\n",
    "N = 5;\n",
    "j = 1;\n",
    "\n",
    "#choose parameter set\n",
    "ps = [19.9, 38.9, 24.4, 39.1, 99.3, 5180.0, 1.0];\n",
    "\n",
    "#compute switching on time, say t_on\n",
    "#median mRNA deg time (in mammalian cells) is 9hrs\n",
    "#normalising by degradation rate gives t = 1 = 9hrs\n",
    "#so t = 0.1 ~ 1hr\n",
    "# t = 0.01 ~ 5mins\n",
    "# t = 0.01/5 = 0.002 ~ 1min - minimum sampling time\n",
    "#need t_on to be at least 5mins to have 1min sampling intervals\n",
    "prefactor = compute_theory_prefactor(N, j, ps); #compute power law prefactor\n",
    "final_mean = 40.0; #fix final measurement mean mRNA count\n",
    "t_on = (final_mean/prefactor)^(1/(N-j+1)); #compute t_on\n",
    "t_save = [t_on/5, 2*t_on/5, 3*t_on/5, 4*t_on/5, t_on];\n",
    "\n",
    "#solve rate equations up to t_on\n",
    "\n",
    "#time to solve over\n",
    "t_span = (0.0, t_on);\n",
    "\n",
    "#Solve the moment equations in time\n",
    "\n",
    "#initial conditions\n",
    "m0 = 0.0; #initial mean mRNA count\n",
    "u0 = compute_IC_vector(N, j, m0); #G_2, G_3, G_4, G_5, M\n",
    "u0map = deterministic_IC(u0, moment_eqns);\n",
    "\n",
    "#construct ODE moment problems and solve the moment equations\n",
    "prob = ODEProblem(moment_eqns, u0map, t_span, ps);\n",
    "sol = solve(prob, CVODE_BDF(), abstol=1e-15, reltol=1e-15, saveat=t_save);\n",
    "\n",
    "#extract mean mRNA count\n",
    "mean_t = [sol.u[i][end] for i in 1:1:length(sol.u)];\n",
    "\n",
    "#Linear regression\n",
    "\n",
    "#compute log values\n",
    "log_mean_t = log.(mean_t);\n",
    "log_t_save = log.(t_save);\n",
    "df_data_loglinreg = DataFrame(X=log_t_save, Y=log_mean_t); #save data in DataFrame for GLM linear regression\n",
    "GLM_linreg = lm(@formula(Y ~ X), df_data_loglinreg);\n",
    "\n",
    "#estimates of intercept & slope\n",
    "reg_intercept = coef(GLM_linreg)[1]; #exp(intercept) = prefactor\n",
    "reg_slope = coef(GLM_linreg)[2]; #slope = exponent\n",
    "\n",
    "#R-squared\n",
    "Rsq_linreg = compute_Rsq_linreg(mean_t, t_save, reg_intercept, reg_slope);\n",
    "\n",
    "#round results\n",
    "linreg_prefactor = round(exp(reg_intercept), sigdigits=5);\n",
    "reg_intercept = round(reg_intercept, sigdigits=5);\n",
    "reg_slope = round(reg_slope, sigdigits=5);\n",
    "Rsq_linreg = round(Rsq_linreg, sigdigits=5);\n",
    "        \n",
    "#Nonlinear regression\n",
    "\n",
    "#define power law model\n",
    "# t: array of independent variables\n",
    "# p: array of model parameters\n",
    "m(t, p) = p[1] * ( t .^ p[2] )\n",
    "\n",
    "#(optional) upper and lower bounds on the model parameters\n",
    "#note that the initial parameters must be within the upper and lower bounds\n",
    "ub = [Inf, 10.0];\n",
    "lb = [0.0, 0.0];\n",
    "#prefactor in [0.0, Inf)\n",
    "#exponent in [0.0, 10.0]\n",
    "\n",
    "p0 = [1.0, 1.0]; #initial values of model parameters\n",
    "\n",
    "#estimates of prefactor & exponent\n",
    "fit_nlinreg = LsqFit.curve_fit(m, t_save, mean_t, p0, lower=lb, upper=ub);\n",
    "reg_prefactor = fit_nlinreg.param[1];\n",
    "reg_exponent = fit_nlinreg.param[2];\n",
    "\n",
    "#R-squared\n",
    "Rsq_nlinreg = compute_Rsq_nlinreg(mean_t, t_save, reg_prefactor, reg_exponent);\n",
    "\n",
    "#round results\n",
    "reg_prefactor = round(reg_prefactor, sigdigits=5);\n",
    "reg_exponent = round(reg_exponent, sigdigits=5);\n",
    "Rsq_nlinreg = round(Rsq_nlinreg, sigdigits=5);\n",
    "\n",
    "println(\"linear regression slope = \", reg_slope)\n",
    "println(\"nonlinear regression exponent = \", reg_exponent)"
   ]
  },
  {
   "cell_type": "markdown",
   "id": "50b70da7",
   "metadata": {},
   "source": [
    "### Linear regression example"
   ]
  },
  {
   "cell_type": "code",
   "execution_count": 39,
   "id": "ca8d98c9-82e3-4b13-a4c8-65bff9ef5d1d",
   "metadata": {},
   "outputs": [],
   "source": [
    "#linear regression example\n",
    "#compute theoretical mean, regression line, and true CME mean lines\n",
    "\n",
    "#time to save means at\n",
    "t_save_lines = 0.0:0.001:ceil(t_save[end],digits=1);\n",
    "\n",
    "#CME mean\n",
    "prob = ODEProblem(moment_eqns, u0map, (t_save_lines[1], t_save_lines[end]), ps);\n",
    "sol = solve(prob, CVODE_BDF(), abstol=1e-15, reltol=1e-15, saveat=t_save_lines);\n",
    "#extract mean mRNA count\n",
    "cme_mean_t = [sol.u[i][end] for i in 1:1:length(sol.u)];\n",
    "cme_mean_t = cme_mean_t[2:end];\n",
    "\n",
    "#linear regression\n",
    "reg_line_vec = Vector{Float64}();\n",
    "example_line_vec = Vector{Float64}();\n",
    "for t in t_save_lines[2:end]\n",
    "    val = log(t)*reg_slope + reg_intercept;\n",
    "    val2 = val - 2.0;\n",
    "    val = exp.(val);\n",
    "    val2 = exp.(val2);\n",
    "    push!(reg_line_vec, val)\n",
    "    push!(example_line_vec, val2);\n",
    "end\n",
    "\n",
    "#theoretical mean\n",
    "theory_line_vec = Vector{Float64}();\n",
    "prefactor = compute_theory_prefactor(N, j, ps); #compute power law prefactor\n",
    "for t in t_save_lines[2:end]\n",
    "    val = prefactor*(t^(N-j+1));\n",
    "    push!(theory_line_vec, val)\n",
    "end\n",
    "\n",
    "t_save_lines = t_save_lines[2:end];"
   ]
  },
  {
   "cell_type": "markdown",
   "id": "7181abd4",
   "metadata": {},
   "source": [
    "### Nonlinear regression example"
   ]
  },
  {
   "cell_type": "code",
   "execution_count": 40,
   "id": "d9ecb595-a35b-465d-90a7-5ad5d1b1cf7b",
   "metadata": {},
   "outputs": [],
   "source": [
    "#nonlinear regression example\n",
    "\n",
    "#recompute regression with nonlinear reg estimated prefactor and exponent\n",
    "nlinreg_line_vec = Vector{Float64}();\n",
    "for t in t_save_lines\n",
    "    val = reg_prefactor*(t^reg_exponent);\n",
    "    push!(nlinreg_line_vec, val)\n",
    "end"
   ]
  },
  {
   "cell_type": "markdown",
   "id": "c7ed0d1c",
   "metadata": {},
   "source": [
    "### Import saved regression results for plotting histograms"
   ]
  },
  {
   "cell_type": "code",
   "execution_count": 41,
   "id": "67098f02-2743-4fb4-8924-a2cd8290a885",
   "metadata": {},
   "outputs": [
    {
     "name": "stdout",
     "output_type": "stream",
     "text": [
      "139.108726 seconds (1.13 G allocations: 35.451 GiB, 21.62% gc time, 0.33% compilation time: 31% of which was recompilation)\n"
     ]
    }
   ],
   "source": [
    "#Import regression results\n",
    "\n",
    "vec_xlsx_filenames = [];\n",
    "\n",
    "N_j_pair_vector = [[2,1],[3,1],[3,2],[4,1],[4,2],[4,3],[5,1],[5,2],[5,3],[5,4]];\n",
    "\n",
    "slope_vec_linreg = Vector{Vector{Float64}}();\n",
    "exponent_vec_nlinreg = Vector{Vector{Float64}}();\n",
    "ss_mean_vec_all = Vector{Vector{Float64}}();\n",
    "\n",
    "@time for l in 1:1:length(N_j_pair_vector)\n",
    "    \n",
    "    N = N_j_pair_vector[l][1];\n",
    "    j = N_j_pair_vector[l][2];\n",
    "    \n",
    "    xlsxfilename = \"SyntheticData_N\"*string(N)*\"_j\"*string(j)*\".xlsx\";\n",
    "    df1 = DataFrame(XLSX.readtable(xlsxfilename, \"Sheet1\"));\n",
    "    \n",
    "    slope_vec_linreg_temp = convert(Vector{Float64}, df1[:,N+10]);\n",
    "    exponent_vec_nlinreg_temp = convert(Vector{Float64}, df1[:,N+17]);\n",
    "    steady_state_mean_vec = convert(Vector{Float64}, df1[:,N+5]);\n",
    "    \n",
    "    #filter out all parameter sets with steady-state mean < 1000\n",
    "    vec_ssmean_indices_g1000 = findall(x -> x>1000.0, steady_state_mean_vec);\n",
    "    slope_vec_linreg_temp = slope_vec_linreg_temp[setdiff(1:end, vec_ssmean_indices_g1000)];\n",
    "    exponent_vec_nlinreg_temp = exponent_vec_nlinreg_temp[setdiff(1:end, vec_ssmean_indices_g1000)];\n",
    "    steady_state_mean_vec = steady_state_mean_vec[setdiff(1:end, vec_ssmean_indices_g1000)];\n",
    "    \n",
    "    push!(slope_vec_linreg, slope_vec_linreg_temp);\n",
    "    push!(exponent_vec_nlinreg, exponent_vec_nlinreg_temp);\n",
    "    push!(ss_mean_vec_all, steady_state_mean_vec);\n",
    "    df1 = DataFrame();\n",
    "end"
   ]
  },
  {
   "cell_type": "code",
   "execution_count": 42,
   "id": "053eee5b-ca43-40a4-8656-176094554bd3",
   "metadata": {},
   "outputs": [],
   "source": [
    "#Figure options\n",
    "\n",
    "#theoretical exponent for each subplot\n",
    "true_exp = [2; 3; 2; 4; 3; 2; 5; 4; 3; 2];\n",
    "\n",
    "#create two new vectors to store the indices of the subplot grid\n",
    "hist_col_idx = [4; 4; 3; 4; 3; 2; 4; 3; 2; 1];\n",
    "hist_row_idx = [1; 2; 2; 3; 3; 3; 4; 4; 4; 4];\n",
    "\n",
    "#vector to store the y limits for each subplot\n",
    "y_lim_linreg = [0.27; 0.2; 0.2; 0.23; 0.2; 0.2; 0.23; 0.2; 0.2; 0.2].+0.05;\n",
    "y_lim_nlinreg = [0.25; 0.25; 0.25; 0.2; 0.2; 0.2; 0.2; 0.2; 0.2; 0.2].+0.05;\n",
    "\n",
    "#bin edges for each subplot\n",
    "bin_edges_linreg = [];\n",
    "bin_edges_nlinreg = [];\n",
    "for i in 1:1:length(N_j_pair_vector)\n",
    "    bin_edges_linreg_temp = floor(minimum(slope_vec_linreg[i]), sigdigits=2):0.1:ceil(maximum(slope_vec_linreg[i]), sigdigits=2);\n",
    "    bin_edges_nlinreg_temp = floor(minimum(exponent_vec_nlinreg[i]), sigdigits=2):0.1:ceil(maximum(exponent_vec_nlinreg[i]), sigdigits=2);\n",
    "    push!(bin_edges_linreg, bin_edges_linreg_temp);\n",
    "    push!(bin_edges_nlinreg, bin_edges_nlinreg_temp);\n",
    "end"
   ]
  },
  {
   "cell_type": "markdown",
   "id": "90c67958",
   "metadata": {},
   "source": [
    "### Reproduce Fig. 4"
   ]
  },
  {
   "cell_type": "code",
   "execution_count": 43,
   "id": "fc339a81-f713-4e04-85e5-415b527de388",
   "metadata": {},
   "outputs": [
    {
     "data": {
      "image/png": "[encoded data removed]"
     },
     "execution_count": 43,
     "metadata": {},
     "output_type": "execute_result"
    }
   ],
   "source": [
    "#Plot Fig. 4\n",
    "\n",
    "fig_4 = Figure(resolution = (900, 600))\n",
    "\n",
    "#histograms of estimated exponent (grid)\n",
    "for i in 1:1:10\n",
    "\n",
    "    if i==1\n",
    "        ax = Axis(fig_4[hist_row_idx[i], hist_col_idx[i]], xlabel=\"Estimated exponent\", ylabel=\"Probability\",\n",
    "          xlabelsize=15, xticklabelsize=12, ylabelsize=15, yticklabelsize=12, xticks = ([1.0,1.2,1.4,1.6,1.8,2.0]))\n",
    "    elseif i==3 || i==6 || i==10\n",
    "        ax = Axis(fig_4[hist_row_idx[i], hist_col_idx[i]],\n",
    "          xlabelsize=15, xticklabelsize=12, ylabelsize=15, yticklabelsize=12, xticks = ([0.5,1.0,1.5,2.0]))\n",
    "    else\n",
    "        ax = Axis(fig_4[hist_row_idx[i], hist_col_idx[i]],\n",
    "          xlabelsize=15, xticklabelsize=12, ylabelsize=15, yticklabelsize=12)\n",
    "    end\n",
    "\n",
    "    hist!(ax, slope_vec_linreg[i], bins=bin_edges_linreg[i], normalization=:probability, color=bbblue, strokewidth = 0.25, strokecolor =bbblue)\n",
    "\n",
    "    ll = lines!(ax, [true_exp[i], true_exp[i]], [0, y_lim_linreg[i]], color=:red, linewidth=2.2, linestyle=:dash)\n",
    "    \n",
    "    hidedecorations!(ax, ticks=false, ticklabels=false, label=false)\n",
    "    \n",
    "    CairoMakie.ylims!(ax, 0, y_lim_linreg[i])\n",
    "    \n",
    "end\n",
    "ll = lines!(ax, [true_exp[1], true_exp[1]], [0, y_lim_linreg[1]], color=:red, linewidth=2.2, linestyle=:dash)\n",
    "\n",
    "#Example regression plot\n",
    "\n",
    "ax = Axis(fig_4[1:2, 1:2], xlabel=\"Time\", ylabel=\"Mean mRNA count\", xscale=log10, yscale=log10,\n",
    "          xlabelsize=15, xticklabelsize=12, ylabelsize=15, yticklabelsize=12, xticks=([10^-2,2*10^-2,4*10^-2,6*10^-2,8*10^-2,10^-1]))\n",
    "\n",
    "#theoretical mean line\n",
    "tml = lines!(t_save_lines, theory_line_vec, color=:black, linewidth=1.8)\n",
    "\n",
    "#true mean line\n",
    "mean_line = lines!(t_save_lines, cme_mean_t, color=:red, linewidth=1.8)\n",
    "\n",
    "#regression line\n",
    "reg_line = lines!(t_save_lines, reg_line_vec, color=bblue, linewidth=2.5, linestyle=:dash)\n",
    "\n",
    "#sample data points\n",
    "dp1 = CairoMakie.scatter!(t_save, mean_t, color=bblue, marker=:xcross, markersize=18)\n",
    "\n",
    "#slope = exponent line\n",
    "example_line = lines!(t_save_lines[20:60], example_line_vec[20:60], color=:grey, linewidth=2)\n",
    "\n",
    "box = Box(fig_4[1:2, 1:2], color=(:white,0), strokecolor = (:white,0))\n",
    "lbl = Label(fig_4[1:2, 1:2], \"Slope = Exponent\", color=:grey, padding = (20, 40, 35, 20), halign=:right, valign=:bottom)\n",
    "\n",
    "CairoMakie.xlims!(10^-2, 10^-1)\n",
    "CairoMakie.ylims!(10^(-2.6), 10^(2.5))\n",
    "\n",
    "Legend(fig_4[1,3], [ll, mean_line, tml, reg_line, dp1], [\"Theoretical short-time\n",
    "exponent (N-j+1)\", \"CME mean\", \"Power law \n",
    "short-time mean\", \"Regression\", \"Sample data\"],\n",
    "    framevisible=false, halign=:right, valign=:top, labelsize=12)\n",
    "\n",
    "hidedecorations!(ax, ticks=false, ticklabels=false, label=false)\n",
    "\n",
    "colsize!(fig_4.layout, 1, Fixed(150))\n",
    "\n",
    "fig_4"
   ]
  }
 ],
 "metadata": {
  "kernelspec": {
   "display_name": "Julia 1.8.5",
   "language": "julia",
   "name": "julia-1.8"
  },
  "language_info": {
   "file_extension": ".jl",
   "mimetype": "application/julia",
   "name": "julia",
   "version": "1.8.5"
  }
 },
 "nbformat": 4,
 "nbformat_minor": 5
}
