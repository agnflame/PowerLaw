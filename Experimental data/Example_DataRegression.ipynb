{
 "cells": [
  {
   "cell_type": "code",
   "execution_count": 1,
   "id": "656cddce-1fb4-4ee9-8802-3d49022e859e",
   "metadata": {},
   "outputs": [
    {
     "name": "stderr",
     "output_type": "stream",
     "text": [
      "\u001b[32m\u001b[1m  Activating\u001b[22m\u001b[39m project at `~/Projects/Indistinguishability-Repo`\n"
     ]
    }
   ],
   "source": [
    "#packages\n",
    "using Pkg #package manager\n",
    "Pkg.activate(\".\") #applies any following packages to this directory"
   ]
  },
  {
   "cell_type": "code",
   "execution_count": 83,
   "id": "95cb9ad4-283f-43db-ba53-7161cb0651bc",
   "metadata": {},
   "outputs": [],
   "source": [
    "#Relevant packages\n",
    "using LinearAlgebra;\n",
    "using CairoMakie;\n",
    "using StatsBase;\n",
    "using DataFrames;\n",
    "using CSV;\n",
    "using XLSX;\n",
    "using BlackBoxOptim;\n",
    "using SpecialFunctions;"
   ]
  },
  {
   "cell_type": "code",
   "execution_count": 19,
   "id": "0a861200-963d-4fe8-9ef6-e8ac9b7f6792",
   "metadata": {},
   "outputs": [
    {
     "data": {
      "text/plain": [
       "compute_mean_reg (generic function with 1 method)"
      ]
     },
     "execution_count": 19,
     "metadata": {},
     "output_type": "execute_result"
    }
   ],
   "source": [
    "#function to compute the predicted values given by a specified regression model for specified parameters and range\n",
    "function compute_mean_reg(model_func, params, x_range)\n",
    "    y_vec = Vector{Float64}();\n",
    "    for x in x_range\n",
    "        y = model_func(x, params);\n",
    "        push!(y_vec, y);\n",
    "    end\n",
    "    return y_vec;\n",
    "end"
   ]
  },
  {
   "cell_type": "code",
   "execution_count": null,
   "id": "4441521d-b9ee-49d2-af0f-d40b5bd2f062",
   "metadata": {},
   "outputs": [],
   "source": [
    "#form of the model\n",
    "\n",
    "#power law with delay\n",
    "function m(t, p)\n",
    "    if t < p[3]\n",
    "        return p[4];\n",
    "    else\n",
    "        return p[4] + (p[1]/gamma(p[2]+1))*((t-p[3]).^p[2]);\n",
    "    end\n",
    "end\n",
    "\n",
    "#power law with no delay\n",
    "function m(t, p)\n",
    "    return p[3] + (p[1]/gamma(p[2]+1))*(t.^p[2]);\n",
    "end"
   ]
  },
  {
   "cell_type": "code",
   "execution_count": 53,
   "id": "d03b1ab3-5d73-4792-86a0-be1b99d9ee91",
   "metadata": {},
   "outputs": [
    {
     "name": "stdout",
     "output_type": "stream",
     "text": [
      "scData_Exp1_CY5_nuclear.xlsx\n",
      "scData_Exp1_CY5_cytoplasm.xlsx\n"
     ]
    }
   ],
   "source": [
    "#Yeast Data\n",
    "\n",
    "#import CY5 Exp1 single cell data\n",
    "println(\"scData_Exp1_CY5_nuclear.xlsx\")\n",
    "println(\"scData_Exp1_CY5_cytoplasm.xlsx\")\n",
    "df_nuclear = DataFrame(XLSX.readtable(\"scData_Exp1_CY5_nuclear.xlsx\", \"Sheet1\"));\n",
    "df_nuclear = df_nuclear[:,1:8];\n",
    "df_cytoplasm = DataFrame(XLSX.readtable(\"scData_Exp1_CY5_cytoplasm.xlsx\", \"Sheet1\"));\n",
    "df_cytoplasm= df_cytoplasm[:,1:8];\n",
    "\n",
    "#compute mean at each time point\n",
    "n_cells_vec = Vector{Int64}();\n",
    "nuclear_means_vec = Vector{Float64}();\n",
    "cytoplasm_means_vec = Vector{Float64}();\n",
    "times_vec = [0.0, 1.0, 2.0, 4.0, 6.0, 8.0, 10.0, 15.0];\n",
    "for j in 1:1:(size(df_nuclear)[2])\n",
    "    #find \"number of cells/samples\" - i.e. find the number of non-missing values\n",
    "    len = length(df_nuclear[:,j]);\n",
    "    notmissing_idxs = findall(x -> ismissing(df_nuclear[:,j][x])==false, collect(1:1:len));\n",
    "    n_cells = length(notmissing_idxs);\n",
    "    push!(n_cells_vec, n_cells);\n",
    "    temp_mean_N = mean(df_nuclear[notmissing_idxs,j]);\n",
    "    temp_mean_C = mean(df_cytoplasm[notmissing_idxs,j]);\n",
    "    push!(nuclear_means_vec, temp_mean_N);\n",
    "    push!(cytoplasm_means_vec, temp_mean_C);\n",
    "end"
   ]
  },
  {
   "cell_type": "code",
   "execution_count": 54,
   "id": "7be9cdd8-c5f8-4ae9-a319-d852d578c4f8",
   "metadata": {},
   "outputs": [
    {
     "name": "stdout",
     "output_type": "stream",
     "text": [
      "Starting optimization with optimizer DiffEvoOpt{FitPopulation{Float64}, RadiusLimitedSelector, BlackBoxOptim.AdaptiveDiffEvoRandBin{3}, RandomBound{ContinuousRectSearchSpace}}\n",
      "0.00 secs, 0 evals, 0 steps\n",
      "0.50 secs, 198596 evals, 198918 steps, improv/step: 0.114 (last = 0.1138), fitness=0.022647921\n",
      "1.00 secs, 390137 evals, 390840 steps, improv/step: 0.106 (last = 0.0970), fitness=0.022647921\n",
      "\n",
      "Optimization stopped after 500001 steps and 1.27 seconds\n",
      "Termination reason: Max number of steps (500000) reached\n",
      "Steps per second = 393224.77\n",
      "Function evals per second = 392496.52\n",
      "Improvements/step = 0.10329\n",
      "Total function evaluations = 499075\n",
      "\n",
      "\n",
      "Best candidate found: [0.578281, 2.90388, 2.28576, 0.447902]\n",
      "\n",
      "Fitness: 0.022647921\n",
      "\n"
     ]
    }
   ],
   "source": [
    "#optimisation - estimate parameters\n",
    "\n",
    "#fit cytoplasmic data\n",
    "#infer delay\n",
    "#then use this delay to fit nuclear data\n",
    "\n",
    "#Cytoplasmic mRNA\n",
    "   \n",
    "#define full cyoplasmic mRNA model\n",
    "function m_C(t, p)\n",
    "    if t < p[3]\n",
    "        return p[4];\n",
    "    else\n",
    "        return p[4] + (p[1]/gamma(p[2]+1))*((t-p[3]).^p[2]);\n",
    "    end\n",
    "end\n",
    "#p[1] - prefactor - A_C\n",
    "#p[2] - exponent - n_C\n",
    "#p[3] - delay - t_0\n",
    "#p[4] - constant cytoplasmic mRNA during delay m0_C\n",
    "\n",
    "#choose the number of timepoints to use\n",
    "N_timepoints_C = 6;\n",
    "x_ = times_vec[1:N_timepoints_C];\n",
    "y_ = cytoplasm_means_vec[1:N_timepoints_C];\n",
    "model_func = m_C;\n",
    "\n",
    "#construct a function which computes the RSS for a given set of model parameters\n",
    "#the covariates (x_), responses (y_) and regression model (model_func) all need to be predefined\n",
    "#pass function a vector of model parameters (p_vec)\n",
    "function RSS_C(p_vec)\n",
    "\n",
    "    #compute predicted values\n",
    "    y_pred = Vector{Float64}();\n",
    "    for i in 1:1:length(y_)\n",
    "        temp_pred = model_func(x_[i], p_vec);\n",
    "        push!(y_pred, temp_pred);\n",
    "    end\n",
    "\n",
    "    #compute residuals\n",
    "    resid = Vector{Float64}();\n",
    "    for i in 1:1:length(y_)\n",
    "        temp_resid = y_[i] - y_pred[i];\n",
    "        push!(resid, temp_resid);\n",
    "    end\n",
    "\n",
    "    #compute residual sum of squares (RSS)\n",
    "    rss_value = sum(resid .^ 2);\n",
    "\n",
    "    return rss_value;\n",
    "\n",
    "end\n",
    "\n",
    "#Optimisation!\n",
    "\n",
    "#p[1] - prefactor - A_C - bounds: (0.0, 10^10)\n",
    "#p[2] - exponent - n_C - bounds: (0.0, 10.0)\n",
    "#p[3] - delay - t_0 - bounds: (0.0, 1.0)\n",
    "#p[4] - constant cytoplasmic mRNA during delay - m0_C - bounds: (0.0, 1.0)\n",
    "optim_res_C = bboptimize(RSS_C; SearchRange = [(0.0, 10^3), (1.0, 9.0), (0.0, 4.5), (0.0, 1.5)], MaxSteps=5*10^5, TraceMode=:compact);"
   ]
  },
  {
   "cell_type": "code",
   "execution_count": 55,
   "id": "8179e391-99a8-40af-a052-146c3694ea4d",
   "metadata": {
    "jp-MarkdownHeadingCollapsed": true,
    "tags": []
   },
   "outputs": [
    {
     "name": "stdout",
     "output_type": "stream",
     "text": [
      "t_0 = 2.2857557968446187\n",
      "Starting optimization with optimizer DiffEvoOpt{FitPopulation{Float64}, RadiusLimitedSelector, BlackBoxOptim.AdaptiveDiffEvoRandBin{3}, RandomBound{ContinuousRectSearchSpace}}\n",
      "0.00 secs, 0 evals, 0 steps\n",
      "0.50 secs, 141136 evals, 141106 steps, improv/step: 0.256 (last = 0.2562), fitness=0.000004946\n",
      "1.00 secs, 290475 evals, 290502 steps, improv/step: 0.256 (last = 0.2564), fitness=0.000004946\n",
      "1.50 secs, 426472 evals, 426544 steps, improv/step: 0.258 (last = 0.2609), fitness=0.000004946\n",
      "\n",
      "Optimization stopped after 500001 steps and 1.76 seconds\n",
      "Termination reason: Max number of steps (500000) reached\n",
      "Steps per second = 283965.65\n",
      "Function evals per second = 283909.99\n",
      "Improvements/step = 0.25784\n",
      "Total function evaluations = 499903\n",
      "\n",
      "\n",
      "Best candidate found: [0.056272, 1.92804, 0.0144793]\n",
      "\n",
      "Fitness: 0.000004946\n",
      "\n"
     ]
    }
   ],
   "source": [
    "#Nuclear mRNA\n",
    "\n",
    "t_0 = best_candidate(optim_res_C)[3];\n",
    "println(\"t_0 = \", t_0)\n",
    "\n",
    "#define full nuclear mRNA model\n",
    "function m_N(t, p)\n",
    "    if t < t_0\n",
    "        return p[3];\n",
    "    else\n",
    "        return p[3] + (p[1]/gamma(p[2]+1))*((t-t_0).^p[2]);\n",
    "    end\n",
    "end\n",
    "#p[1] - prefactor - A_N\n",
    "#p[2] - exponent - n_N\n",
    "#p[3] - constant nuclear mRNA during delay - m0_N\n",
    "\n",
    "#define beforehand\n",
    "N_timepoints_N = 5;\n",
    "x_ = times_vec[1:N_timepoints_N];\n",
    "y_ = nuclear_means_vec[1:N_timepoints_N];\n",
    "model_func = m_N;\n",
    "\n",
    "#construct a function which computes the RSS for a given set of model parameters\n",
    "#the covariates (x_), responses (y_) and regression model (model_func) all need to be predefined\n",
    "#pass function a vector of model parameters (p_vec)\n",
    "function RSS_N(p_vec)\n",
    "\n",
    "    #compute predicted values\n",
    "    y_pred = Vector{Float64}();\n",
    "    for i in 1:1:length(y_)\n",
    "        temp_pred = model_func(x_[i], p_vec);\n",
    "        push!(y_pred, temp_pred);\n",
    "    end\n",
    "\n",
    "    #compute residuals\n",
    "    resid = Vector{Float64}();\n",
    "    for i in 1:1:length(y_)\n",
    "        temp_resid = y_[i] - y_pred[i];\n",
    "        push!(resid, temp_resid);\n",
    "    end\n",
    "\n",
    "    #compute residual sum of squares (RSS)\n",
    "    rss_value = sum(resid .^ 2);\n",
    "\n",
    "    return rss_value;\n",
    "\n",
    "end\n",
    "\n",
    "#Optimisation!\n",
    "\n",
    "#p[1] - prefactor - A_N\n",
    "#p[2] - exponent - n_N\n",
    "#p[3] - constant nuclear mRNA during delay - m0_N\n",
    "optim_res_N = bboptimize(RSS_N; SearchRange = [(0.0, 10^3), (1.0, 9.0), (0.0, 0.5)], MaxSteps=5*10^5, TraceMode=:compact);"
   ]
  },
  {
   "cell_type": "code",
   "execution_count": 56,
   "id": "0783550f-4c7b-4f2d-8d54-4be9ed932a4b",
   "metadata": {},
   "outputs": [
    {
     "name": "stdout",
     "output_type": "stream",
     "text": [
      "cytoplasmic prefactor = 0.5782806604514041\n",
      "cytoplasmic exponent = 2.9038809306982385\n",
      "delay = 2.2857557968446187\n",
      "m_0C = 0.44790197241232405\n",
      "\n",
      "nuclear prefactor = 0.056272028733302275\n",
      "nuclear exponent = 1.9280406905881888\n",
      "m_0N = 0.014479250660990818\n"
     ]
    }
   ],
   "source": [
    "#estimates\n",
    "\n",
    "#cytoplasmic mRNA\n",
    "prefactor_C = best_candidate(optim_res_C)[1]; #prefactor\n",
    "println(\"cytoplasmic prefactor = \", prefactor_C) \n",
    "exponent_C = best_candidate(optim_res_C)[2]; #exponent\n",
    "println(\"cytoplasmic exponent = \", exponent_C)\n",
    "t_0 = best_candidate(optim_res_C)[3]; #delay\n",
    "println(\"delay = \", t_0)\n",
    "m0_C = best_candidate(optim_res_C)[4]; #m_0C\n",
    "println(\"m_0C = \", m0_C);\n",
    "println()\n",
    "\n",
    "#nuclear mRNA\n",
    "prefactor_N = best_candidate(optim_res_N)[1]; #prefactor\n",
    "println(\"nuclear prefactor = \", prefactor_N) \n",
    "exponent_N = best_candidate(optim_res_N)[2]; #exponent\n",
    "println(\"nuclear exponent = \", exponent_N)\n",
    "m0_N = best_candidate(optim_res_N)[3]; #m_0N\n",
    "println(\"m_0N = \", m0_N);"
   ]
  },
  {
   "cell_type": "code",
   "execution_count": 57,
   "id": "bf5d55b5-ab93-4ede-be49-a823e1eb479f",
   "metadata": {},
   "outputs": [],
   "source": [
    "#compute regression using optimal parameters and model\n",
    "\n",
    "x_range_N = 0.0:0.1:times_vec[N_timepoints_N];\n",
    "optim_ps_vec_N = best_candidate(optim_res_N);\n",
    "nuclear_mean_reg = compute_mean_reg(m_N, optim_ps_vec_N, x_range_N);\n",
    "\n",
    "x_range_C = 0.0:0.1:times_vec[N_timepoints_C];\n",
    "optim_ps_vec_C = best_candidate(optim_res_C);\n",
    "cytoplasm_mean_reg = compute_mean_reg(m_C, optim_ps_vec_C, x_range_C);"
   ]
  },
  {
   "cell_type": "code",
   "execution_count": 58,
   "id": "72617370-405b-4669-8731-924712006c6b",
   "metadata": {},
   "outputs": [
    {
     "data": {
      "image/png": "[encoded data removed]"
     },
     "execution_count": 58,
     "metadata": {},
     "output_type": "execute_result"
    }
   ],
   "source": [
    "#plot nuclear and cytoplasmic mean mRNA count curves and regressions\n",
    "\n",
    "fig_1 = Figure(resolution = (800, 1000))\n",
    "\n",
    "#Data curve\n",
    "ax = Axis(fig_1[1,1], xlabel=\"Time (mins)\", ylabel=\"Mean mRNA count\",\n",
    "          xlabelsize=24, xticklabelsize=20, ylabelsize=24, yticklabelsize=20, title=\"Nuclear\", xticks=[0,1,2,4,6,8,10,15])\n",
    "CairoMakie.scatterlines!(times_vec, nuclear_means_vec, color=:black, marker=:xcross, markersize=20, linewidth=3, linestyle=:dash)\n",
    "CairoMakie.lines!(x_range_N, nuclear_mean_reg, color=:red, linewidth=3)\n",
    "hidedecorations!(ax, ticks=false, ticklabels=false, label=false)\n",
    "\n",
    "#Data curve\n",
    "ax = Axis(fig_1[2,1], xlabel=\"Time (mins)\", ylabel=\"Mean mRNA count\",\n",
    "          xlabelsize=24, xticklabelsize=20, ylabelsize=24, yticklabelsize=20, title=\"Cytoplasmic\", xticks=[0,1,2,4,6,8,10,15])\n",
    "CairoMakie.scatterlines!(times_vec, cytoplasm_means_vec, color=:black, marker=:xcross, markersize=20, linewidth=3, linestyle=:dash)\n",
    "CairoMakie.lines!(x_range_C, cytoplasm_mean_reg, color=:red, linewidth=3)\n",
    "hidedecorations!(ax, ticks=false, ticklabels=false, label=false)\n",
    "\n",
    "fig_1"
   ]
  },
  {
   "cell_type": "code",
   "execution_count": 60,
   "id": "5f5ef518-19bb-4194-a4a0-e7d083f95353",
   "metadata": {},
   "outputs": [],
   "source": [
    "#Mouse data\n",
    "\n",
    "#import data\n",
    "filename = \"Data_A_g2_Icam1_J2_mRNA.csv\";\n",
    "df_mRNA = CSV.read(filename, DataFrame);\n",
    "times_vec_2 = df_mRNA[:,1].*60.0; #convert times from hours to minutes\n",
    "RNAcount_vec = df_mRNA[:,2];"
   ]
  },
  {
   "cell_type": "code",
   "execution_count": 61,
   "id": "ec321233-4c04-4104-a630-999ba65e1967",
   "metadata": {},
   "outputs": [
    {
     "name": "stdout",
     "output_type": "stream",
     "text": [
      "Starting optimization with optimizer DiffEvoOpt{FitPopulation{Float64}, RadiusLimitedSelector, BlackBoxOptim.AdaptiveDiffEvoRandBin{3}, RandomBound{ContinuousRectSearchSpace}}\n",
      "0.00 secs, 0 evals, 0 steps\n",
      "0.50 secs, 192804 evals, 217256 steps, improv/step: 0.644 (last = 0.6439), fitness=0.643438845\n",
      "1.00 secs, 390565 evals, 444113 steps, improv/step: 0.695 (last = 0.7433), fitness=0.643438845\n",
      "\n",
      "Optimization stopped after 500001 steps and 1.11 seconds\n",
      "Termination reason: Max number of steps (500000) reached\n",
      "Steps per second = 452195.42\n",
      "Function evals per second = 397407.53\n",
      "Improvements/step = 0.70002\n",
      "Total function evaluations = 439421\n",
      "\n",
      "\n",
      "Best candidate found: [0.0123203, 2.74921, 13.4068, 3.40286e-16]\n",
      "\n",
      "Fitness: 0.643438845\n",
      "\n"
     ]
    }
   ],
   "source": [
    "#optimisation - estimate parameters\n",
    "\n",
    "#define model\n",
    "function m(t, p)\n",
    "    if t < p[3]\n",
    "        return p[4];\n",
    "    else\n",
    "        return p[4] + (p[1]/gamma(p[2]+1))*((t-p[3]).^p[2]);\n",
    "    end\n",
    "end\n",
    "#p[1] - prefactor - A_C\n",
    "#p[2] - exponent - n_C\n",
    "#p[3] - delay - t_0\n",
    "#p[4] - constant mRNA during delay m0\n",
    "\n",
    "#choose the number of timepoints to use\n",
    "N_timepoints = 6;\n",
    "x_ = times_vec_2[1:N_timepoints];\n",
    "y_ = RNAcount_vec[1:N_timepoints];\n",
    "model_func = m;\n",
    "\n",
    "#construct a function which computes the RSS for a given set of model parameters\n",
    "#the covariates (x_), responses (y_) and regression model (model_func) all need to be predefined\n",
    "#pass function a vector of model parameters (p_vec)\n",
    "function RSS(p_vec)\n",
    "\n",
    "    #compute predicted values\n",
    "    y_pred = Vector{Float64}();\n",
    "    for i in 1:1:length(y_)\n",
    "        temp_pred = model_func(x_[i], p_vec);\n",
    "        push!(y_pred, temp_pred);\n",
    "    end\n",
    "\n",
    "    #compute residuals\n",
    "    resid = Vector{Float64}();\n",
    "    for i in 1:1:length(y_)\n",
    "        temp_resid = y_[i] - y_pred[i];\n",
    "        push!(resid, temp_resid);\n",
    "    end\n",
    "\n",
    "    #compute residual sum of squares (RSS)\n",
    "    rss_value = sum(resid .^ 2);\n",
    "\n",
    "    return rss_value;\n",
    "\n",
    "end\n",
    "\n",
    "#Optimisation!\n",
    "\n",
    "#p[1] - prefactor - A\n",
    "#p[2] - exponent - n\n",
    "#p[3] - delay - t_0\n",
    "#p[4] - constant mRNA during delay - m0\n",
    "optim_res = bboptimize(RSS_C; SearchRange = [(0.0, 10^3), (1.0, 9.0), (0.0, 15.0), (0.0, 5.0)], MaxSteps=5*10^5, TraceMode=:compact);"
   ]
  },
  {
   "cell_type": "code",
   "execution_count": 70,
   "id": "5f01bb4d-b92f-4e0b-8511-bee5dcd70497",
   "metadata": {},
   "outputs": [
    {
     "name": "stdout",
     "output_type": "stream",
     "text": [
      "prefactor = 0.012320278928616308\n",
      "exponent = 2.7492147764823187\n",
      "delay = 13.40680247272641\n",
      "m0 = 3.4028579072816873e-16\n"
     ]
    }
   ],
   "source": [
    "#estimates\n",
    "\n",
    "mRNA_prefactor = best_candidate(optim_res)[1]; #prefactor\n",
    "println(\"prefactor = \", mRNA_prefactor)\n",
    "mRNA_exponent = best_candidate(optim_res)[2]; #exponent\n",
    "println(\"exponent = \", mRNA_exponent)\n",
    "mRNA_delay = best_candidate(optim_res)[3]; #delay\n",
    "println(\"delay = \", mRNA_delay)\n",
    "mRNA_constant = best_candidate(optim_res)[4]; #constant\n",
    "println(\"m0 = \", mRNA_constant)"
   ]
  },
  {
   "cell_type": "code",
   "execution_count": 62,
   "id": "6dbf8dcd-af89-405d-b2b6-cdc892f5e3a3",
   "metadata": {},
   "outputs": [],
   "source": [
    "#compute regression using optimal parameters and model\n",
    "\n",
    "x_range = 0.0:0.1:times_vec_2[N_timepoints];\n",
    "optim_ps_vec = best_candidate(optim_res);\n",
    "mRNA_reg = compute_mean_reg(m, optim_ps_vec, x_range);"
   ]
  },
  {
   "cell_type": "code",
   "execution_count": 82,
   "id": "d6966a35-cebb-4a6f-a80d-aa41e4eb3ab7",
   "metadata": {},
   "outputs": [
    {
     "data": {
      "image/png": "[encoded data removed]"
     },
     "execution_count": 82,
     "metadata": {},
     "output_type": "execute_result"
    }
   ],
   "source": [
    "#plot mRNA count curve and regression\n",
    "\n",
    "fig_2 = Figure(resolution = (800, 500))\n",
    "\n",
    "#Data curve\n",
    "ax = Axis(fig_2[1,1], xlabel=\"Time (mins)\", ylabel=\"mRNA count\",\n",
    "          xlabelsize=24, xticklabelsize=20, ylabelsize=24, yticklabelsize=20, title=\"Fibroblast - Icam1 mRNA\")\n",
    "CairoMakie.scatterlines!(times_vec_2, RNAcount_vec, color=:black, marker=:xcross, markersize=20, linewidth=3, linestyle=:dash)\n",
    "CairoMakie.lines!(x_range, mRNA_reg, color=:red, linewidth=3)\n",
    "hidedecorations!(ax, ticks=false, ticklabels=false, label=false)\n",
    "xlims!(-2, 65)\n",
    "ylims!(-2, 60)\n",
    "\n",
    "fig_2"
   ]
  },
  {
   "cell_type": "code",
   "execution_count": null,
   "id": "6d8018e4-839c-48b9-af2a-6d905894845e",
   "metadata": {},
   "outputs": [],
   "source": [
    "#compute the Jacobian of the model parameters evaluated at the optimal parameter set\n",
    "#use this to estimate local uncertainties in the model parameters\n",
    "#the terms in the Jacobian matrix depend on whether each time point falls during or after the delay"
   ]
  },
  {
   "cell_type": "code",
   "execution_count": 71,
   "id": "f4df2646-8c37-4166-a604-3d1b260259b5",
   "metadata": {},
   "outputs": [
    {
     "data": {
      "text/plain": [
       "model_Jacobian_4params (generic function with 1 method)"
      ]
     },
     "execution_count": 71,
     "metadata": {},
     "output_type": "execute_result"
    }
   ],
   "source": [
    "#function to evaluate the Jacobian of the model parameters at the optimal parameter set\n",
    "#for model with 4 parameters inferred: prefactor (A_), exponent (n_), delay (t0_), m0_\n",
    "#t_is - time points used to determine if a residual is before or after delay\n",
    "function model_Jacobian_4params(A_, n_, t0_, m0_, t_is)\n",
    "    \n",
    "    N_params = 4; #number of model parameters\n",
    "    N_obs = length(t_is); #number of observations\n",
    "    \n",
    "    #initialise Jacobian\n",
    "    Jacobian = zeros(N_obs, N_params);\n",
    "    \n",
    "    for i in 1:1:N_obs\n",
    "        \n",
    "        #decide if observation lies during or after the delay\n",
    "        if t_is[i] <= t0_ #if observation is during delay\n",
    "            #then compute Jacobian using the derivatives computed during the delay\n",
    "            #D[r_i, A_]\n",
    "            Jacobian[i,1] = 0.0;\n",
    "            #D[r_i, n_]\n",
    "            Jacobian[i,2] = 0.0;\n",
    "            #D[r_i, t0_]\n",
    "            Jacobian[i,3] = 0.0;\n",
    "            #D[r_i, m0_]\n",
    "            Jacobian[i,4] = 1.0;\n",
    "        else #observation is after delay\n",
    "            #then compute Jacobian using the derivatives computed after the delay\n",
    "            #D[r_i, A_]\n",
    "            Jacobian[i,1] = ((t_is[i]-t0_)^n_)/gamma(n_);\n",
    "            #D[r_i, n_]\n",
    "            Jacobian[i,2] = (A_/gamma(n_))*((t_is[i]-t0_)^n_)*( log(t_is[i]-t0_)-polygamma(0,n_) ) ;\n",
    "            #D[r_i, t0_]\n",
    "            Jacobian[i,3] = ((-A_*n_)/gamma(n_))*((t_is[i]-t0_)^(n_-1));\n",
    "            #D[r_i, m0_]\n",
    "            Jacobian[i,4] = 1.0;\n",
    "        end\n",
    "        \n",
    "    end\n",
    "    \n",
    "    return Jacobian;\n",
    "    \n",
    "end"
   ]
  },
  {
   "cell_type": "code",
   "execution_count": 72,
   "id": "1c631e04-0c2d-4b60-a98d-7a3f631b626a",
   "metadata": {},
   "outputs": [
    {
     "data": {
      "text/plain": [
       "model_Jacobian_3params (generic function with 1 method)"
      ]
     },
     "execution_count": 72,
     "metadata": {},
     "output_type": "execute_result"
    }
   ],
   "source": [
    "#function to evaluate the Jacobian of the model parameters at the optimal parameter set\n",
    "#for model with 3 parameters inferred: prefactor (A_), exponent (n_), m0_\n",
    "#t_is - time points used to determine if a residual is before or after delay\n",
    "function model_Jacobian_3params(A_, n_, t0_, m0_, t_is)\n",
    "    \n",
    "    N_params = 3; #number of model parameters\n",
    "    N_obs = length(t_is); #number of observations\n",
    "    \n",
    "    #initialise Jacobian\n",
    "    Jacobian = zeros(N_obs, N_params);\n",
    "    \n",
    "    for i in 1:1:N_obs\n",
    "        \n",
    "        #decide if observation lies during or after the delay\n",
    "        if t_is[i] <= t0_ #if observation is during delay\n",
    "            #then compute Jacobian using the derivatives computed during the delay\n",
    "            #D[r_i, A_]\n",
    "            Jacobian[i,1] = 0.0;\n",
    "            #D[r_i, n_]\n",
    "            Jacobian[i,2] = 0.0;\n",
    "            #D[r_i, m0_]\n",
    "            Jacobian[i,3] = 1.0;\n",
    "        else #observation is after delay\n",
    "            #then compute Jacobian using the derivatives computed after the delay\n",
    "            #D[r_i, A_]\n",
    "            Jacobian[i,1] = ((t_is[i]-t0_)^n_)/gamma(n_);\n",
    "            #D[r_i, n_]\n",
    "            Jacobian[i,2] = (A_/gamma(n_))*((t_is[i]-t0_)^n_)*( log(t_is[i]-t0_)-polygamma(0,n_) ) ;\n",
    "            #D[r_i, m0_]\n",
    "            Jacobian[i,3] = 1.0;\n",
    "        end\n",
    "        \n",
    "    end\n",
    "    \n",
    "    return Jacobian;\n",
    "    \n",
    "end"
   ]
  },
  {
   "cell_type": "code",
   "execution_count": 73,
   "id": "c8715935-abef-457c-813d-932a43c6790a",
   "metadata": {},
   "outputs": [
    {
     "data": {
      "text/plain": [
       "6×4 Matrix{Float64}:\n",
       "    0.0      0.0       0.0       1.0\n",
       "    0.0      0.0       0.0       1.0\n",
       "  124.089    1.6934   -0.612378  1.0\n",
       "  359.571    6.62128  -1.20505   1.0\n",
       " 1405.23    34.4599   -2.86844   1.0\n",
       " 4996.89   150.945    -6.42976   1.0"
      ]
     },
     "execution_count": 73,
     "metadata": {},
     "output_type": "execute_result"
    }
   ],
   "source": [
    "Jacobain_mRNA = model_Jacobian_4params(mRNA_prefactor, mRNA_exponent, mRNA_delay, mRNA_constant, times_vec_2[1:N_timepoints])"
   ]
  },
  {
   "cell_type": "code",
   "execution_count": 76,
   "id": "d6959cc8-c13e-451e-acfd-2d247af8e981",
   "metadata": {},
   "outputs": [
    {
     "data": {
      "text/plain": [
       "0.3217194226386038"
      ]
     },
     "execution_count": 76,
     "metadata": {},
     "output_type": "execute_result"
    }
   ],
   "source": [
    "optim_RSS_mRNA = best_fitness(optim_res); #minimum RSS\n",
    "#estimate of the variance of the residuals: RSS/(degrees of freedom)\n",
    "var_of_residuals_mRNA = optim_RSS_mRNA/(length(times_vec_2[1:N_timepoints])-length(optim_ps_vec))"
   ]
  },
  {
   "cell_type": "code",
   "execution_count": 77,
   "id": "75f81ee5-d61f-4b11-8c86-7c0f56bb17fd",
   "metadata": {},
   "outputs": [
    {
     "data": {
      "text/plain": [
       "4×4 Matrix{Float64}:\n",
       "  0.000262573  -0.00669332   0.0474853   0.00274058\n",
       " -0.00669332    0.170958    -1.20262    -0.0661704\n",
       "  0.0474853    -1.20262      8.78127     0.60118\n",
       "  0.00274058   -0.0661704    0.60118     0.158617"
      ]
     },
     "execution_count": 77,
     "metadata": {},
     "output_type": "execute_result"
    }
   ],
   "source": [
    "cov_matrix_mRNA = inv(transpose(Jacobain_mRNA)*Jacobain_mRNA)*var_of_residuals_mRNA"
   ]
  },
  {
   "cell_type": "code",
   "execution_count": 80,
   "id": "c50ffc6c-4c04-42be-a22f-083384cbcd4b",
   "metadata": {},
   "outputs": [
    {
     "data": {
      "text/plain": [
       "4-element Vector{Float64}:\n",
       " 0.016204092911732637\n",
       " 0.4134701834754767\n",
       " 2.963319937555043\n",
       " 0.39826743326652025"
      ]
     },
     "execution_count": 80,
     "metadata": {},
     "output_type": "execute_result"
    }
   ],
   "source": [
    "std_err_params_vec_mRNA = sqrt.(diag(cov_matrix_mRNA))"
   ]
  }
 ],
 "metadata": {
  "kernelspec": {
   "display_name": "Julia 1.8.5",
   "language": "julia",
   "name": "julia-1.8"
  },
  "language_info": {
   "file_extension": ".jl",
   "mimetype": "application/julia",
   "name": "julia",
   "version": "1.8.5"
  }
 },
 "nbformat": 4,
 "nbformat_minor": 5
}
